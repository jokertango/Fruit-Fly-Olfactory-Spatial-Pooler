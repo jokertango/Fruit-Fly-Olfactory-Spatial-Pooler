{
 "cells": [
  {
   "cell_type": "code",
   "execution_count": 1,
   "metadata": {
    "collapsed": true
   },
   "outputs": [],
   "source": [
    "import numpy as np\n",
    "from __future__ import division\n",
    "import pandas as pd "
   ]
  },
  {
   "cell_type": "code",
   "execution_count": 2,
   "metadata": {
    "collapsed": true
   },
   "outputs": [],
   "source": [
    "#numpy array of scents and their corresponding numbers \n",
    "Scents = np.array(['lemon0','coffee1','citrus2','menthol3','alcohol4','sugar5','mulch6','gasoline7','chlorine8','flower9']).reshape(-1,1)"
   ]
  },
  {
   "cell_type": "code",
   "execution_count": 3,
   "metadata": {
    "collapsed": true
   },
   "outputs": [],
   "source": [
    "#scent numbers without their string names in case numpy complains about mixed data types\n",
    "scent_numbers = np.array([0,1,2,3,4,5,6,7,8,9]).reshape(-1,1)"
   ]
  },
  {
   "cell_type": "code",
   "execution_count": 4,
   "metadata": {
    "collapsed": true
   },
   "outputs": [],
   "source": [
    "# a matrix 50 x 10 populated with integers 1-100 representing ranges of scent receptor cell firing rates\n",
    "scent_data = np.random.randint(100, size=(10, 50))"
   ]
  },
  {
   "cell_type": "code",
   "execution_count": 5,
   "metadata": {
    "collapsed": true
   },
   "outputs": [],
   "source": [
    "# \"scent_data\" concatonated with \"scent_numbers\" (last column is label of scent)\n",
    "labeled_scent_matrix = np.hstack((scent_data,scent_numbers))"
   ]
  },
  {
   "cell_type": "code",
   "execution_count": 6,
   "metadata": {
    "collapsed": true
   },
   "outputs": [],
   "source": [
    "# saves scent data numpy array as csv file\n",
    "\n",
    "df = pd.DataFrame(labeled_scent_matrix)\n",
    "df.to_csv(\"labeled_scent_matrix.csv\",header=None)"
   ]
  },
  {
   "cell_type": "code",
   "execution_count": 7,
   "metadata": {
    "collapsed": true
   },
   "outputs": [],
   "source": [
    "class ReceptorCell(object):\n",
    "    \"\"\"\n",
    "        constructs scent receptor instance/object\n",
    "    \"\"\"\n",
    "\n",
    "    def __init__(self, scent_number, num_dendrites, num_of_scents, MBindices,labeled_scent_matrix):\n",
    "        self.scent_number = scent_number\n",
    "        self.num_dendrites = num_dendrites\n",
    "        self.num_of_scents = num_of_scents\n",
    "        self.MBindices = MBindices\n",
    "        self.labeled_scent_matrix = labeled_scent_matrix\n",
    "    \n",
    "    def receptorDistribution(self):\n",
    "        receptorlist = np.arange(self.num_of_scents)\n",
    "        receptorlistx = []\n",
    "        y = (self.num_of_scents-1)-(self.scent_number)\n",
    "        \n",
    "        for i in range(len(receptorlist)):\n",
    "            receptorlistx.append(receptorlist[i-y])\n",
    "        ScentDistArray = np.asarray(receptorlistx)\n",
    "        return ScentDistArray\n",
    "    \n",
    "    def MBsynapses(self):\n",
    "        return np.random.randint(self.MBindices, size=self.num_dendrites)\n",
    "    \n",
    "    def scentSignature(self):\n",
    "        signature = self.labeled_scent_matrix[self.scent_number]\n",
    "        return signature[0:-1]\n",
    "        \n",
    "        \n",
    "        \n",
    "    #def sentName(self):\n",
    "        \n",
    "        \n",
    "    \n",
    "    def synapseEPSP(self):\n",
    "        return np.zeros(self.num_dendrites)\n",
    "    \n",
    "  "
   ]
  },
  {
   "cell_type": "code",
   "execution_count": 8,
   "metadata": {
    "collapsed": true
   },
   "outputs": [],
   "source": [
    "#creates 50 ReceptorCell objects with specified parameters below\n",
    "\n",
    "receptor = np.empty(50,dtype=object)\n",
    "num_dendrites = 300\n",
    "num_of_scents = 50\n",
    "MBindices = 2500\n",
    "create = ReceptorCell(0, num_dendrites, num_of_scents, MBindices,labeled_scent_matrix)\n",
    "for scent_number in range(50):\n",
    "    receptor[scent_number] = ReceptorCell(scent_number, num_dendrites, num_of_scents, MBindices,labeled_scent_matrix)\n",
    "    receptor[scent_number].receptorDistribution = receptor[scent_number].receptorDistribution()\n",
    "    receptor[scent_number].MBsynapses = receptor[scent_number].MBsynapses()\n",
    "    receptor[scent_number].synapseEPSP = receptor[scent_number].synapseEPSP()\n",
    "    \n",
    "    \n",
    "    \n",
    "    "
   ]
  },
  {
   "cell_type": "code",
   "execution_count": 9,
   "metadata": {},
   "outputs": [
    {
     "name": "stdout",
     "output_type": "stream",
     "text": [
      "[82 54 98 20 63 89 68 33 88 27 58 87 63 24 79 55 89  6 37 72 44 19 35 64 88\n",
      " 45 53 80 17 25 87 50 80 77 35 84 17  6 25 77  9 67 39 30 36 95 26 90 48 33]\n",
      "2\n",
      "300\n",
      "50\n",
      "[ 3  4  5  6  7  8  9 10 11 12 13 14 15 16 17 18 19 20 21 22 23 24 25 26 27\n",
      " 28 29 30 31 32 33 34 35 36 37 38 39 40 41 42 43 44 45 46 47 48 49  0  1  2]\n",
      "[2340 1988 2101   70  659 1744 2308 2354 1425 1864  483  669  714 2284  352\n",
      " 1834  977 2455  329  657  954 1710  716   85 2293 1497 1452 1356 1174  534\n",
      "  821 2095  145  100 1804 1005 2173 1613 2357 1340 1568 1867 1623  328 1657\n",
      "  325   18  101 1448 1620  282  135 1187 1102  179 2117 1487 1780 1891 2113\n",
      "  960  514  967 2255 1810  708  191  904  695 1076  714 1027  301 1180  873\n",
      " 1204  120  523 1886 1756 1395 1845 1603  161 1450  900 2469 1649 1617  947\n",
      "  435  226 1081 2091  278 1165 1257 1831  190 1424 1623  903  898 2414  378\n",
      " 2479 1854  475  565  779 1733 1356  102  609 1489 1145 1230 1411 2155 1804\n",
      "  738 2498  529  142  775 1188    3 2120  961 1286  131   18 1207  345  367\n",
      "  971   91  831 1340 1321  591 2336  351 1927  493 1749 1856  612   42 2219\n",
      " 2328 1891 2367 1761 1670 1977   23  545 2491 1021 1530 1928  181   75  149\n",
      " 2038 1089  235  143 2362  784  640 2197 2370 2371  442 1385 1018  833 2168\n",
      " 2427  373 2332 1932 1945 2074  121  798 2332  355  569 1915 1781   61  495\n",
      " 1066 2150   30  870  464  578  233 2274  340 1775 1876  292 1744 1810 1905\n",
      " 2248  989 1533 1932  583 1092  817  710  372 2315  431 1120 2001 2470 1496\n",
      "  447 1414  454   20  408   18 1525 2296  541 1299  320 1101  205  858   48\n",
      "  594 1683 2446 2017 1013 2371  282 1029    5  501 1437 1013 2252  450 1999\n",
      " 2001 1924 1180  188 1176 2242 1045 2253 1996 1676 2450 2464  580  654 1137\n",
      "  619 1609  303 1183 1404 1661  378 2155 1404 2131 1706 1420  716 1997 1087\n",
      "  750 1833 2234 2247  878 1135 1060  631  461  894  913 2155  686 1264 1775]\n",
      "[ 0.  0.  0.  0.  0.  0.  0.  0.  0.  0.  0.  0.  0.  0.  0.  0.  0.  0.\n",
      "  0.  0.  0.  0.  0.  0.  0.  0.  0.  0.  0.  0.  0.  0.  0.  0.  0.  0.\n",
      "  0.  0.  0.  0.  0.  0.  0.  0.  0.  0.  0.  0.  0.  0.  0.  0.  0.  0.\n",
      "  0.  0.  0.  0.  0.  0.  0.  0.  0.  0.  0.  0.  0.  0.  0.  0.  0.  0.\n",
      "  0.  0.  0.  0.  0.  0.  0.  0.  0.  0.  0.  0.  0.  0.  0.  0.  0.  0.\n",
      "  0.  0.  0.  0.  0.  0.  0.  0.  0.  0.  0.  0.  0.  0.  0.  0.  0.  0.\n",
      "  0.  0.  0.  0.  0.  0.  0.  0.  0.  0.  0.  0.  0.  0.  0.  0.  0.  0.\n",
      "  0.  0.  0.  0.  0.  0.  0.  0.  0.  0.  0.  0.  0.  0.  0.  0.  0.  0.\n",
      "  0.  0.  0.  0.  0.  0.  0.  0.  0.  0.  0.  0.  0.  0.  0.  0.  0.  0.\n",
      "  0.  0.  0.  0.  0.  0.  0.  0.  0.  0.  0.  0.  0.  0.  0.  0.  0.  0.\n",
      "  0.  0.  0.  0.  0.  0.  0.  0.  0.  0.  0.  0.  0.  0.  0.  0.  0.  0.\n",
      "  0.  0.  0.  0.  0.  0.  0.  0.  0.  0.  0.  0.  0.  0.  0.  0.  0.  0.\n",
      "  0.  0.  0.  0.  0.  0.  0.  0.  0.  0.  0.  0.  0.  0.  0.  0.  0.  0.\n",
      "  0.  0.  0.  0.  0.  0.  0.  0.  0.  0.  0.  0.  0.  0.  0.  0.  0.  0.\n",
      "  0.  0.  0.  0.  0.  0.  0.  0.  0.  0.  0.  0.  0.  0.  0.  0.  0.  0.\n",
      "  0.  0.  0.  0.  0.  0.  0.  0.  0.  0.  0.  0.  0.  0.  0.  0.  0.  0.\n",
      "  0.  0.  0.  0.  0.  0.  0.  0.  0.  0.  0.  0.]\n"
     ]
    }
   ],
   "source": [
    "print(receptor[2].scentSignature())\n",
    "print(receptor[2].scent_number)\n",
    "print(receptor[2].num_dendrites)\n",
    "print(receptor[2].num_of_scents)\n",
    "print(receptor[2].receptorDistribution)\n",
    "print(receptor[2].MBsynapses)\n",
    "print(receptor[2].synapseEPSP)"
   ]
  },
  {
   "cell_type": "code",
   "execution_count": 10,
   "metadata": {
    "collapsed": true
   },
   "outputs": [],
   "source": [
    "#takes 2 integers as arguments and then creates an array with the first argument being at the end of the array and the\n",
    "#second argument being the number of elements in the array. \n",
    "\n",
    "def create_receptor_list(scent,num_of_scents):\n",
    "    receptorlist = np.arange(num_of_scents)\n",
    "    receptorlistx = []\n",
    "    y = (num_of_scents-1)-(scent)\n",
    "    for i in range(len(receptorlist)):\n",
    "        receptorlistx.append(receptorlist[i-y])\n",
    "    X = np.asarray(receptorlistx)\n",
    "    return X"
   ]
  },
  {
   "cell_type": "code",
   "execution_count": 11,
   "metadata": {
    "collapsed": true
   },
   "outputs": [],
   "source": [
    "#arguements(float,int,int). \n",
    "#returns an array of exponential values at equal intervals-->max_spiking/num_of_scents\n",
    "\n",
    "def activationarray(lamb,num_of_scents,max_spiking):\n",
    "    emptyarray = []\n",
    "    x=0\n",
    "    spike_increment = int(max_spiking/num_of_scents)\n",
    "    for i in range(num_of_scents):\n",
    "        x += spike_increment\n",
    "        print(x)\n",
    "        y = np.exp(-lamb*(x))\n",
    "        emptyarray.append(y)\n",
    "    Arr = np.asarray(emptyarray)\n",
    "    return Arr\n",
    "    \n",
    "    "
   ]
  },
  {
   "cell_type": "code",
   "execution_count": 12,
   "metadata": {
    "collapsed": true
   },
   "outputs": [],
   "source": []
  },
  {
   "cell_type": "code",
   "execution_count": 13,
   "metadata": {},
   "outputs": [
    {
     "data": {
      "text/plain": [
       "array([ 3,  4,  5,  6,  7,  8,  9, 10, 11, 12, 13, 14, 15, 16, 17, 18, 19,\n",
       "       20, 21, 22, 23, 24, 25, 26, 27, 28, 29, 30, 31, 32, 33, 34, 35, 36,\n",
       "       37, 38, 39, 40, 41, 42, 43, 44, 45, 46, 47, 48, 49,  0,  1,  2])"
      ]
     },
     "execution_count": 13,
     "metadata": {},
     "output_type": "execute_result"
    }
   ],
   "source": []
  },
  {
   "cell_type": "code",
   "execution_count": null,
   "metadata": {
    "collapsed": true
   },
   "outputs": [],
   "source": []
  }
 ],
 "metadata": {
  "kernelspec": {
   "display_name": "Python 2",
   "language": "python",
   "name": "python2"
  },
  "language_info": {
   "codemirror_mode": {
    "name": "ipython",
    "version": 2
   },
   "file_extension": ".py",
   "mimetype": "text/x-python",
   "name": "python",
   "nbconvert_exporter": "python",
   "pygments_lexer": "ipython2",
   "version": "2.7.13"
  }
 },
 "nbformat": 4,
 "nbformat_minor": 2
}
